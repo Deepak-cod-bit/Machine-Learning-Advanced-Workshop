{
 "cells": [
  {
   "cell_type": "code",
   "execution_count": 1,
   "id": "d1a9e32f-c4f2-4d0e-a4e3-e92ec3b7c671",
   "metadata": {},
   "outputs": [],
   "source": [
    "import pandas as pd\n",
    "import numpy as np\n"
   ]
  },
  {
   "cell_type": "code",
   "execution_count": 4,
   "id": "ab7a715d-7a27-4221-93f7-8c19da3defff",
   "metadata": {},
   "outputs": [],
   "source": [
    "columns = ['sepallength', 'sepalwidth', 'petallength', 'petalwidth', 'species']\n",
    "data = pd.read_csv('iris.data', header=None, names=columns)\n",
    "data.to_csv('iris.csv', index=False)"
   ]
  },
  {
   "cell_type": "code",
   "execution_count": 5,
   "id": "135366d2-7ae2-4974-8086-6dfaecc5bc82",
   "metadata": {},
   "outputs": [
    {
     "data": {
      "text/html": [
       "<div>\n",
       "<style scoped>\n",
       "    .dataframe tbody tr th:only-of-type {\n",
       "        vertical-align: middle;\n",
       "    }\n",
       "\n",
       "    .dataframe tbody tr th {\n",
       "        vertical-align: top;\n",
       "    }\n",
       "\n",
       "    .dataframe thead th {\n",
       "        text-align: right;\n",
       "    }\n",
       "</style>\n",
       "<table border=\"1\" class=\"dataframe\">\n",
       "  <thead>\n",
       "    <tr style=\"text-align: right;\">\n",
       "      <th></th>\n",
       "      <th>sepallength</th>\n",
       "      <th>sepalwidth</th>\n",
       "      <th>petallength</th>\n",
       "      <th>petalwidth</th>\n",
       "      <th>species</th>\n",
       "    </tr>\n",
       "  </thead>\n",
       "  <tbody>\n",
       "    <tr>\n",
       "      <th>0</th>\n",
       "      <td>5.1</td>\n",
       "      <td>3.5</td>\n",
       "      <td>1.4</td>\n",
       "      <td>0.2</td>\n",
       "      <td>Iris-setosa</td>\n",
       "    </tr>\n",
       "    <tr>\n",
       "      <th>1</th>\n",
       "      <td>4.9</td>\n",
       "      <td>3.0</td>\n",
       "      <td>1.4</td>\n",
       "      <td>0.2</td>\n",
       "      <td>Iris-setosa</td>\n",
       "    </tr>\n",
       "    <tr>\n",
       "      <th>2</th>\n",
       "      <td>4.7</td>\n",
       "      <td>3.2</td>\n",
       "      <td>1.3</td>\n",
       "      <td>0.2</td>\n",
       "      <td>Iris-setosa</td>\n",
       "    </tr>\n",
       "    <tr>\n",
       "      <th>3</th>\n",
       "      <td>4.6</td>\n",
       "      <td>3.1</td>\n",
       "      <td>1.5</td>\n",
       "      <td>0.2</td>\n",
       "      <td>Iris-setosa</td>\n",
       "    </tr>\n",
       "    <tr>\n",
       "      <th>4</th>\n",
       "      <td>5.0</td>\n",
       "      <td>3.6</td>\n",
       "      <td>1.4</td>\n",
       "      <td>0.2</td>\n",
       "      <td>Iris-setosa</td>\n",
       "    </tr>\n",
       "  </tbody>\n",
       "</table>\n",
       "</div>"
      ],
      "text/plain": [
       "   sepallength  sepalwidth  petallength  petalwidth      species\n",
       "0          5.1         3.5          1.4         0.2  Iris-setosa\n",
       "1          4.9         3.0          1.4         0.2  Iris-setosa\n",
       "2          4.7         3.2          1.3         0.2  Iris-setosa\n",
       "3          4.6         3.1          1.5         0.2  Iris-setosa\n",
       "4          5.0         3.6          1.4         0.2  Iris-setosa"
      ]
     },
     "execution_count": 5,
     "metadata": {},
     "output_type": "execute_result"
    }
   ],
   "source": [
    "data.head()"
   ]
  },
  {
   "cell_type": "code",
   "execution_count": 25,
   "id": "24b9c9d9-21b7-472b-844d-29640800f574",
   "metadata": {},
   "outputs": [],
   "source": [
    "numerical_data = data.drop(columns=['species'])"
   ]
  },
  {
   "cell_type": "code",
   "execution_count": 10,
   "id": "54c6ed65-4191-407c-8618-191eacffa7c6",
   "metadata": {},
   "outputs": [
    {
     "data": {
      "text/plain": [
       "sepallength    5.843333\n",
       "sepalwidth     3.054000\n",
       "petallength    3.758667\n",
       "petalwidth     1.198667\n",
       "dtype: float64"
      ]
     },
     "execution_count": 10,
     "metadata": {},
     "output_type": "execute_result"
    }
   ],
   "source": [
    "numerical_data.mean()"
   ]
  },
  {
   "cell_type": "code",
   "execution_count": 12,
   "id": "37b0db7c-6047-4bb1-a3d8-6ee6e9e17016",
   "metadata": {},
   "outputs": [
    {
     "data": {
      "text/html": [
       "<div>\n",
       "<style scoped>\n",
       "    .dataframe tbody tr th:only-of-type {\n",
       "        vertical-align: middle;\n",
       "    }\n",
       "\n",
       "    .dataframe tbody tr th {\n",
       "        vertical-align: top;\n",
       "    }\n",
       "\n",
       "    .dataframe thead th {\n",
       "        text-align: right;\n",
       "    }\n",
       "</style>\n",
       "<table border=\"1\" class=\"dataframe\">\n",
       "  <thead>\n",
       "    <tr style=\"text-align: right;\">\n",
       "      <th></th>\n",
       "      <th>sepallength</th>\n",
       "      <th>sepalwidth</th>\n",
       "      <th>petallength</th>\n",
       "      <th>petalwidth</th>\n",
       "    </tr>\n",
       "  </thead>\n",
       "  <tbody>\n",
       "    <tr>\n",
       "      <th>count</th>\n",
       "      <td>150.000000</td>\n",
       "      <td>150.000000</td>\n",
       "      <td>150.000000</td>\n",
       "      <td>150.000000</td>\n",
       "    </tr>\n",
       "    <tr>\n",
       "      <th>mean</th>\n",
       "      <td>5.843333</td>\n",
       "      <td>3.054000</td>\n",
       "      <td>3.758667</td>\n",
       "      <td>1.198667</td>\n",
       "    </tr>\n",
       "    <tr>\n",
       "      <th>std</th>\n",
       "      <td>0.828066</td>\n",
       "      <td>0.433594</td>\n",
       "      <td>1.764420</td>\n",
       "      <td>0.763161</td>\n",
       "    </tr>\n",
       "    <tr>\n",
       "      <th>min</th>\n",
       "      <td>4.300000</td>\n",
       "      <td>2.000000</td>\n",
       "      <td>1.000000</td>\n",
       "      <td>0.100000</td>\n",
       "    </tr>\n",
       "    <tr>\n",
       "      <th>25%</th>\n",
       "      <td>5.100000</td>\n",
       "      <td>2.800000</td>\n",
       "      <td>1.600000</td>\n",
       "      <td>0.300000</td>\n",
       "    </tr>\n",
       "    <tr>\n",
       "      <th>50%</th>\n",
       "      <td>5.800000</td>\n",
       "      <td>3.000000</td>\n",
       "      <td>4.350000</td>\n",
       "      <td>1.300000</td>\n",
       "    </tr>\n",
       "    <tr>\n",
       "      <th>75%</th>\n",
       "      <td>6.400000</td>\n",
       "      <td>3.300000</td>\n",
       "      <td>5.100000</td>\n",
       "      <td>1.800000</td>\n",
       "    </tr>\n",
       "    <tr>\n",
       "      <th>max</th>\n",
       "      <td>7.900000</td>\n",
       "      <td>4.400000</td>\n",
       "      <td>6.900000</td>\n",
       "      <td>2.500000</td>\n",
       "    </tr>\n",
       "  </tbody>\n",
       "</table>\n",
       "</div>"
      ],
      "text/plain": [
       "       sepallength  sepalwidth  petallength  petalwidth\n",
       "count   150.000000  150.000000   150.000000  150.000000\n",
       "mean      5.843333    3.054000     3.758667    1.198667\n",
       "std       0.828066    0.433594     1.764420    0.763161\n",
       "min       4.300000    2.000000     1.000000    0.100000\n",
       "25%       5.100000    2.800000     1.600000    0.300000\n",
       "50%       5.800000    3.000000     4.350000    1.300000\n",
       "75%       6.400000    3.300000     5.100000    1.800000\n",
       "max       7.900000    4.400000     6.900000    2.500000"
      ]
     },
     "execution_count": 12,
     "metadata": {},
     "output_type": "execute_result"
    }
   ],
   "source": [
    "data.describe()"
   ]
  },
  {
   "cell_type": "code",
   "execution_count": 14,
   "id": "fd681984-55a7-4a9e-9be1-a57e28fdf6ad",
   "metadata": {},
   "outputs": [
    {
     "data": {
      "text/plain": [
       "sepallength    5.80\n",
       "sepalwidth     3.00\n",
       "petallength    4.35\n",
       "petalwidth     1.30\n",
       "dtype: float64"
      ]
     },
     "execution_count": 14,
     "metadata": {},
     "output_type": "execute_result"
    }
   ],
   "source": [
    "numerical_data.median()"
   ]
  },
  {
   "cell_type": "code",
   "execution_count": 15,
   "id": "20394aed-670e-4539-96e6-37f6fee8fe75",
   "metadata": {},
   "outputs": [
    {
     "data": {
      "text/html": [
       "<div>\n",
       "<style scoped>\n",
       "    .dataframe tbody tr th:only-of-type {\n",
       "        vertical-align: middle;\n",
       "    }\n",
       "\n",
       "    .dataframe tbody tr th {\n",
       "        vertical-align: top;\n",
       "    }\n",
       "\n",
       "    .dataframe thead th {\n",
       "        text-align: right;\n",
       "    }\n",
       "</style>\n",
       "<table border=\"1\" class=\"dataframe\">\n",
       "  <thead>\n",
       "    <tr style=\"text-align: right;\">\n",
       "      <th></th>\n",
       "      <th>sepallength</th>\n",
       "      <th>sepalwidth</th>\n",
       "      <th>petallength</th>\n",
       "      <th>petalwidth</th>\n",
       "    </tr>\n",
       "  </thead>\n",
       "  <tbody>\n",
       "    <tr>\n",
       "      <th>0</th>\n",
       "      <td>5.0</td>\n",
       "      <td>3.0</td>\n",
       "      <td>1.5</td>\n",
       "      <td>0.2</td>\n",
       "    </tr>\n",
       "  </tbody>\n",
       "</table>\n",
       "</div>"
      ],
      "text/plain": [
       "   sepallength  sepalwidth  petallength  petalwidth\n",
       "0          5.0         3.0          1.5         0.2"
      ]
     },
     "execution_count": 15,
     "metadata": {},
     "output_type": "execute_result"
    }
   ],
   "source": [
    "numerical_data.mode()"
   ]
  },
  {
   "cell_type": "code",
   "execution_count": 16,
   "id": "1c9bf624-c437-462c-bfa2-584a402e0d41",
   "metadata": {},
   "outputs": [
    {
     "data": {
      "text/plain": [
       "sepallength    0.828066\n",
       "sepalwidth     0.433594\n",
       "petallength    1.764420\n",
       "petalwidth     0.763161\n",
       "dtype: float64"
      ]
     },
     "execution_count": 16,
     "metadata": {},
     "output_type": "execute_result"
    }
   ],
   "source": [
    "numerical_data.std()"
   ]
  },
  {
   "cell_type": "code",
   "execution_count": 17,
   "id": "dc68a721-6b31-4faa-8f46-ff1d1a707cc5",
   "metadata": {},
   "outputs": [
    {
     "data": {
      "text/html": [
       "<div>\n",
       "<style scoped>\n",
       "    .dataframe tbody tr th:only-of-type {\n",
       "        vertical-align: middle;\n",
       "    }\n",
       "\n",
       "    .dataframe tbody tr th {\n",
       "        vertical-align: top;\n",
       "    }\n",
       "\n",
       "    .dataframe thead th {\n",
       "        text-align: right;\n",
       "    }\n",
       "</style>\n",
       "<table border=\"1\" class=\"dataframe\">\n",
       "  <thead>\n",
       "    <tr style=\"text-align: right;\">\n",
       "      <th></th>\n",
       "      <th>sepallength</th>\n",
       "      <th>sepalwidth</th>\n",
       "      <th>petallength</th>\n",
       "      <th>petalwidth</th>\n",
       "    </tr>\n",
       "  </thead>\n",
       "  <tbody>\n",
       "    <tr>\n",
       "      <th>sepallength</th>\n",
       "      <td>1.000000</td>\n",
       "      <td>-0.109369</td>\n",
       "      <td>0.871754</td>\n",
       "      <td>0.817954</td>\n",
       "    </tr>\n",
       "    <tr>\n",
       "      <th>sepalwidth</th>\n",
       "      <td>-0.109369</td>\n",
       "      <td>1.000000</td>\n",
       "      <td>-0.420516</td>\n",
       "      <td>-0.356544</td>\n",
       "    </tr>\n",
       "    <tr>\n",
       "      <th>petallength</th>\n",
       "      <td>0.871754</td>\n",
       "      <td>-0.420516</td>\n",
       "      <td>1.000000</td>\n",
       "      <td>0.962757</td>\n",
       "    </tr>\n",
       "    <tr>\n",
       "      <th>petalwidth</th>\n",
       "      <td>0.817954</td>\n",
       "      <td>-0.356544</td>\n",
       "      <td>0.962757</td>\n",
       "      <td>1.000000</td>\n",
       "    </tr>\n",
       "  </tbody>\n",
       "</table>\n",
       "</div>"
      ],
      "text/plain": [
       "             sepallength  sepalwidth  petallength  petalwidth\n",
       "sepallength     1.000000   -0.109369     0.871754    0.817954\n",
       "sepalwidth     -0.109369    1.000000    -0.420516   -0.356544\n",
       "petallength     0.871754   -0.420516     1.000000    0.962757\n",
       "petalwidth      0.817954   -0.356544     0.962757    1.000000"
      ]
     },
     "execution_count": 17,
     "metadata": {},
     "output_type": "execute_result"
    }
   ],
   "source": [
    "numerical_data.corr()"
   ]
  },
  {
   "cell_type": "code",
   "execution_count": 18,
   "id": "622eea4d-ab56-41c8-9336-73d3fe2a50a2",
   "metadata": {},
   "outputs": [
    {
     "data": {
      "text/html": [
       "<div>\n",
       "<style scoped>\n",
       "    .dataframe tbody tr th:only-of-type {\n",
       "        vertical-align: middle;\n",
       "    }\n",
       "\n",
       "    .dataframe tbody tr th {\n",
       "        vertical-align: top;\n",
       "    }\n",
       "\n",
       "    .dataframe thead th {\n",
       "        text-align: right;\n",
       "    }\n",
       "</style>\n",
       "<table border=\"1\" class=\"dataframe\">\n",
       "  <thead>\n",
       "    <tr style=\"text-align: right;\">\n",
       "      <th></th>\n",
       "      <th>sepallength</th>\n",
       "      <th>sepalwidth</th>\n",
       "      <th>petallength</th>\n",
       "      <th>petalwidth</th>\n",
       "    </tr>\n",
       "  </thead>\n",
       "  <tbody>\n",
       "    <tr>\n",
       "      <th>sepallength</th>\n",
       "      <td>0.685694</td>\n",
       "      <td>-0.039268</td>\n",
       "      <td>1.273682</td>\n",
       "      <td>0.516904</td>\n",
       "    </tr>\n",
       "    <tr>\n",
       "      <th>sepalwidth</th>\n",
       "      <td>-0.039268</td>\n",
       "      <td>0.188004</td>\n",
       "      <td>-0.321713</td>\n",
       "      <td>-0.117981</td>\n",
       "    </tr>\n",
       "    <tr>\n",
       "      <th>petallength</th>\n",
       "      <td>1.273682</td>\n",
       "      <td>-0.321713</td>\n",
       "      <td>3.113179</td>\n",
       "      <td>1.296387</td>\n",
       "    </tr>\n",
       "    <tr>\n",
       "      <th>petalwidth</th>\n",
       "      <td>0.516904</td>\n",
       "      <td>-0.117981</td>\n",
       "      <td>1.296387</td>\n",
       "      <td>0.582414</td>\n",
       "    </tr>\n",
       "  </tbody>\n",
       "</table>\n",
       "</div>"
      ],
      "text/plain": [
       "             sepallength  sepalwidth  petallength  petalwidth\n",
       "sepallength     0.685694   -0.039268     1.273682    0.516904\n",
       "sepalwidth     -0.039268    0.188004    -0.321713   -0.117981\n",
       "petallength     1.273682   -0.321713     3.113179    1.296387\n",
       "petalwidth      0.516904   -0.117981     1.296387    0.582414"
      ]
     },
     "execution_count": 18,
     "metadata": {},
     "output_type": "execute_result"
    }
   ],
   "source": [
    "numerical_data.cov()"
   ]
  },
  {
   "cell_type": "code",
   "execution_count": 30,
   "id": "6412961b-8b38-412d-93e7-c2709639e150",
   "metadata": {},
   "outputs": [
    {
     "name": "stdout",
     "output_type": "stream",
     "text": [
      "[0.08482926 0.0919755  0.09953163 0.10750102 0.11588481 0.12468177\n",
      " 0.13388808 0.14349717 0.1534996  0.16388291 0.17463149 0.18572654\n",
      " 0.19714595 0.20886431 0.2208529  0.23307971 0.24550951 0.25810396\n",
      " 0.27082174 0.28361869 0.2964481  0.30926089 0.32200588 0.33463018\n",
      " 0.34707945 0.35929832 0.37123077 0.38282055 0.39401159 0.40474851\n",
      " 0.41497698 0.42464425 0.43369955 0.44209459 0.44978391 0.45672536\n",
      " 0.46288043 0.46821467 0.47269793 0.47630471 0.47901437 0.48081134\n",
      " 0.48168526 0.48163108 0.48064911 0.47874502 0.47592979 0.4722196\n",
      " 0.46763565 0.46220401 0.45595534 0.44892458 0.44115069 0.43267622\n",
      " 0.42354698 0.41381158 0.40352104 0.39272832 0.38148788 0.36985523\n",
      " 0.35788647 0.34563784 0.33316531 0.32052416 0.30776856 0.29495123\n",
      " 0.28212312 0.26933304 0.25662744 0.24405012 0.23164208 0.21944131\n",
      " 0.20748266 0.19579776 0.18441495 0.17335925 0.16265237 0.15231276\n",
      " 0.14235563 0.1327931  0.12363427 0.11488537 0.1065499  0.09862883\n",
      " 0.09112073 0.084022   0.07732703 0.07102842 0.06511716 0.05958284\n",
      " 0.05441385 0.04959755 0.04512046 0.04096843 0.0371268  0.03358058\n",
      " 0.03031458 0.02731349 0.0245621  0.02204531]\n",
      "[0.04794057 0.0548339  0.06252266 0.07106703 0.08052696 0.09096134\n",
      " 0.10242708 0.1149781  0.12866425 0.14353013 0.15961388 0.17694595\n",
      " 0.19554784 0.21543082 0.23659472 0.25902678 0.28270058 0.30757507\n",
      " 0.33359381 0.3606843  0.3887576  0.41770817 0.44741387 0.47773639\n",
      " 0.50852185 0.53960172 0.57079404 0.601905   0.63273065 0.66305905\n",
      " 0.6926725  0.7213501  0.74887038 0.77501413 0.79956725 0.82232364\n",
      " 0.84308811 0.86167911 0.87793138 0.89169839 0.90285458 0.9112972\n",
      " 0.91694793 0.91975407 0.91968939 0.91675447 0.91097678 0.90241018\n",
      " 0.89113412 0.8772524  0.8608916  0.84219911 0.82134099 0.79849946\n",
      " 0.77387026 0.74765992 0.72008283 0.69135835 0.66170799 0.63135257\n",
      " 0.60050957 0.56939064 0.5381993  0.50712887 0.47636073 0.44606276\n",
      " 0.41638819 0.3874746  0.35944338 0.33239933 0.30643065 0.2816091\n",
      " 0.25799041 0.23561495 0.21450852 0.19468328 0.17613885 0.15886348\n",
      " 0.14283525 0.12802334 0.11438927 0.10188819 0.09047004 0.08008076\n",
      " 0.0706633  0.06215873 0.05450706 0.04764811 0.04152227 0.03607106\n",
      " 0.03123771 0.02696757 0.02320849 0.01991106 0.0170288  0.01451832\n",
      " 0.01233932 0.01045462 0.00883014 0.0074348 ]\n",
      "[0.06660186 0.07017356 0.07385249 0.07763568 0.08151961 0.08550024\n",
      " 0.08957301 0.09373278 0.09797389 0.10229014 0.10667477 0.1111205\n",
      " 0.11561953 0.12016355 0.12474375 0.12935089 0.13397525 0.13860671\n",
      " 0.14323477 0.1478486  0.15243703 0.15698867 0.16149186 0.16593482\n",
      " 0.17030561 0.17459222 0.17878265 0.18286492 0.18682713 0.19065756\n",
      " 0.19434468 0.19787723 0.20124426 0.20443522 0.20743999 0.21024892\n",
      " 0.21285291 0.21524346 0.21741267 0.21935336 0.22105902 0.22252394\n",
      " 0.22374316 0.22471255 0.22542882 0.22588951 0.22609306 0.22603877\n",
      " 0.22572682 0.22515829 0.2243351  0.22326008 0.22193686 0.22036994\n",
      " 0.21856458 0.21652685 0.21426353 0.21178213 0.20909078 0.20619826\n",
      " 0.20311389 0.19984754 0.19640951 0.19281054 0.18906169 0.18517436\n",
      " 0.18116016 0.1770309  0.17279851 0.168475   0.16407237 0.1596026\n",
      " 0.15507758 0.15050904 0.14590854 0.14128738 0.13665658 0.13202686\n",
      " 0.12740854 0.12281158 0.11824551 0.11371939 0.10924181 0.10482089\n",
      " 0.10046419 0.09617878 0.09197119 0.08784739 0.08381282 0.07987238\n",
      " 0.0760304  0.07229071 0.06865659 0.06513081 0.06171565 0.05841288\n",
      " 0.05522382 0.05214935 0.04918989 0.04634547]\n",
      "[0.18546027 0.19404053 0.202813   0.21176827 0.22089596 0.23018468\n",
      " 0.23962207 0.24919481 0.25888861 0.26868824 0.27857756 0.28853957\n",
      " 0.29855641 0.30860942 0.31867921 0.32874568 0.33878809 0.34878516\n",
      " 0.35871506 0.36855559 0.37828416 0.38787795 0.39731392 0.40656898\n",
      " 0.41562003 0.42444406 0.43301828 0.44132015 0.44932756 0.45701886\n",
      " 0.464373   0.47136959 0.47798903 0.48421258 0.49002245 0.49540188\n",
      " 0.50033524 0.50480808 0.50880723 0.51232084 0.51533843 0.51785099\n",
      " 0.51985097 0.52133235 0.52229066 0.522723   0.52262806 0.52200614\n",
      " 0.52085911 0.51919044 0.51700516 0.51430984 0.51111256 0.50742288\n",
      " 0.50325177 0.49861155 0.49351588 0.48797963 0.48201885 0.47565068\n",
      " 0.46889326 0.46176565 0.45428775 0.44648019 0.43836425 0.42996177\n",
      " 0.42129501 0.41238661 0.40325946 0.3939366  0.38444116 0.37479621\n",
      " 0.36502471 0.35514942 0.3451928  0.33517692 0.32512343 0.31505341\n",
      " 0.30498738 0.29494519 0.28494598 0.27500813 0.26514918 0.25538584\n",
      " 0.24573391 0.2362083  0.22682294 0.21759083 0.20852395 0.19963334\n",
      " 0.19092903 0.18242008 0.17411455 0.16601956 0.15814128 0.15048492\n",
      " 0.14305481 0.13585441 0.12888631 0.12215229]\n"
     ]
    }
   ],
   "source": [
    "for i in numerical_data.columns:\n",
    "    mean = num_df[i].mean()\n",
    "    standard_deviation = num_df[i].std()\n",
    "    X = np.linspace(num_df[i].min(), num_df[i].max(), 100)\n",
    "    normal_distribution = (1 / (standard_deviation * np.sqrt(2 * np.pi))) * np.exp(-((X - mean) ** 2) / (2 * standard_deviation ** 2))\n",
    "    print(normal_distribution)"
   ]
  },
  {
   "cell_type": "code",
   "execution_count": null,
   "id": "586c9263-22b1-4fae-989d-c31112df390d",
   "metadata": {},
   "outputs": [],
   "source": []
  },
  {
   "cell_type": "code",
   "execution_count": null,
   "id": "1532e30c-caa5-4d98-973e-73ad2dd2cd82",
   "metadata": {},
   "outputs": [],
   "source": []
  },
  {
   "cell_type": "code",
   "execution_count": null,
   "id": "8b63875d-14b2-40aa-9f42-97bde907356f",
   "metadata": {},
   "outputs": [],
   "source": []
  },
  {
   "cell_type": "code",
   "execution_count": null,
   "id": "9bb32894-b535-4453-8214-a372d6b2b0d9",
   "metadata": {},
   "outputs": [],
   "source": []
  },
  {
   "cell_type": "code",
   "execution_count": null,
   "id": "3a6ec1c4-eafa-4cc4-8c93-af5c3133a5f4",
   "metadata": {},
   "outputs": [],
   "source": []
  }
 ],
 "metadata": {
  "kernelspec": {
   "display_name": "Python 3 (ipykernel)",
   "language": "python",
   "name": "python3"
  },
  "language_info": {
   "codemirror_mode": {
    "name": "ipython",
    "version": 3
   },
   "file_extension": ".py",
   "mimetype": "text/x-python",
   "name": "python",
   "nbconvert_exporter": "python",
   "pygments_lexer": "ipython3",
   "version": "3.12.3"
  }
 },
 "nbformat": 4,
 "nbformat_minor": 5
}
